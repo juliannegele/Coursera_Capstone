{
  "nbformat": 4,
  "nbformat_minor": 0,
  "metadata": {
    "colab": {
      "name": "The_Battle_of_Neighborhoods:Data_Description.ipynb",
      "provenance": [],
      "authorship_tag": "ABX9TyNzke25l+GrN3qWmeJtS9XH",
      "include_colab_link": true
    },
    "kernelspec": {
      "name": "python3",
      "display_name": "Python 3"
    },
    "language_info": {
      "name": "python"
    }
  },
  "cells": [
    {
      "cell_type": "markdown",
      "metadata": {
        "id": "view-in-github",
        "colab_type": "text"
      },
      "source": [
        "<a href=\"https://colab.research.google.com/github/juliannegele/Coursera_Capstone/blob/main/The_Battle_of_Neighborhoods_Data_Description.ipynb\" target=\"_parent\"><img src=\"https://colab.research.google.com/assets/colab-badge.svg\" alt=\"Open In Colab\"/></a>"
      ]
    },
    {
      "cell_type": "markdown",
      "metadata": {
        "id": "jITXmwRwJnMt"
      },
      "source": [
        "#Data Description\n",
        "\n",
        "**Data Foundation:**\n",
        "\n",
        "As we need to explore, segment, and cluster the neighbourhoods in the city of Toronto, the Toronto neighbourhood data is key for this project.\n",
        "\n",
        "Unfortunately, the data is for the Toronto neighbourhood data is not widely available on the Internet in the structured format, hence we need to scrap it through an existing Wikipedia page exists that has all the information we need to explore and cluster the neighbourhoods in Toronto. The data should contain the coordinates for each of the neighbourhood in Toronto that will help us to further obtaining more information critical for this project.\n",
        "\n",
        "**Foursquare:**\n",
        "\n",
        "We will then need to leverage on features in a reliable location information provider such as the Foursquare.com to explore the various types of venues and its categories available in each neighbourhood. We will also need to understand the trending of these venues in the respective neighbourhood.\n",
        "\n",
        "\n",
        "**Clustering:**\n",
        "\n",
        "We will also use clustering techniques such as the K-Clustering to segment and cluster these neighborhoods so that we can group them together to understand their similarities and what best we can do for these type of neighborhoods.\n",
        "\n",
        "\n",
        "**Potential Solution:**\n",
        "\n",
        "With all these features, techniques and data, we will then be able to come up with a best recommendation to the management to their problem which is, where is the best neighborhood for them to first start off to offer their services. "
      ]
    },
    {
      "cell_type": "code",
      "metadata": {
        "id": "nTXj4P2tJx7g"
      },
      "source": [
        ""
      ],
      "execution_count": null,
      "outputs": []
    }
  ]
}