{
  "nbformat": 4,
  "nbformat_minor": 0,
  "metadata": {
    "colab": {
      "name": "The_Battle_of_NeighborhoodsBusiness_Introduction/Problem.ipynb",
      "provenance": [],
      "authorship_tag": "ABX9TyMYc88boDoEAfdvl1DJKKU/",
      "include_colab_link": true
    },
    "kernelspec": {
      "name": "python3",
      "display_name": "Python 3"
    },
    "language_info": {
      "name": "python"
    }
  },
  "cells": [
    {
      "cell_type": "markdown",
      "metadata": {
        "id": "view-in-github",
        "colab_type": "text"
      },
      "source": [
        "<a href=\"https://colab.research.google.com/github/juliannegele/Coursera_Capstone/blob/main/The_Battle_of_NeighborhoodsBusiness_Introduction_Problem.ipynb\" target=\"_parent\"><img src=\"https://colab.research.google.com/assets/colab-badge.svg\" alt=\"Open In Colab\"/></a>"
      ]
    },
    {
      "cell_type": "markdown",
      "metadata": {
        "id": "Dvc0kebx6LlE"
      },
      "source": [
        "#The Battle of Neighborhoods: Introduction/Business Problem"
      ]
    },
    {
      "cell_type": "markdown",
      "metadata": {
        "id": "fj3Q4SeH_UZD"
      },
      "source": [
        "**Problem:**\n",
        "\n",
        "In this Project the focus is on the City of Toronto. Toronto is a well developed capital city of Canada with lots of business friendly environment, it hhas no issue in attracting many different players into the market. However that also means the market in the city is hihgly commpetitive. A new business must choose its location strategically to have less competition and maybe a higher target group.\n",
        "\n",
        "\n",
        "**Problem Description:**\n",
        "\n",
        "This is a problem for grocery stores for example. In this project the stakeholder is a fictional grocery store who wants to open his first location in Toronto and wanted to know the best location for it.\n",
        "\n",
        "\n",
        "**Target Audience:**\n",
        "\n",
        "The objective is to locate and recommend to the grocery store management the best neighbourhood for their first grocery store. The proposal must be underlined with a good data analysis and a good report.\n",
        "\n",
        "**Succes Criteria:**\n",
        "\n",
        "The succes will be a good recommendation for a new location in Toronto. Its depended on two key factors:\n",
        "1. lack of grocery stores in certain neighbourhoods \n",
        "2. higher number of residences presented(higher demand)\n",
        "\n",
        "\n",
        "**Foursquare API:**\n",
        "\n",
        "This project would use Four-square API as its prime data collecting source as it has a database of millions of places, notably their places API which provides the capacity to perform location search, location sharing and details about a business.\n",
        "\n"
      ]
    },
    {
      "cell_type": "code",
      "metadata": {
        "id": "YynzXWAA_562"
      },
      "source": [
        ""
      ],
      "execution_count": null,
      "outputs": []
    }
  ]
}